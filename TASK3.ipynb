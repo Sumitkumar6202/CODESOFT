{
 "cells": [
  {
   "cell_type": "markdown",
   "id": "4493ad58-ffc6-4e22-8b68-21a0e1400938",
   "metadata": {},
   "source": [
    "\n",
    "Import libraries"
   ]
  },
  {
   "cell_type": "code",
   "execution_count": null,
   "id": "f8e2c8c1-7184-41b8-8fe5-46a8deb82c44",
   "metadata": {},
   "outputs": [],
   "source": [
    "import tkinter as tk\n",
    "from tkinter import messagebox\n",
    "import random\n",
    "import string"
   ]
  },
  {
   "cell_type": "markdown",
   "id": "08523e54-1bdc-41db-8a8c-c6450be09490",
   "metadata": {},
   "source": [
    "Function to generate a random password"
   ]
  },
  {
   "cell_type": "code",
   "execution_count": null,
   "id": "ec9a8b8f-aadc-4d57-8e98-b365197ddb30",
   "metadata": {},
   "outputs": [],
   "source": [
    "def generate_password():\n",
    "    password_length = int(length_entry.get())\n",
    "    \n",
    "    if password_length <= 0:\n",
    "        messagebox.showerror(\"Error\", \"Password length must be greater than 0\")\n",
    "        return\n",
    "    \n",
    "    characters = string.ascii_letters + string.digits + string.punctuation\n",
    "    password = ''.join(random.choice(characters) for i in range(password_length))\n",
    "    \n",
    "    password_entry.delete(0, tk.END)\n",
    "    password_entry.insert(0, password)"
   ]
  },
  {
   "cell_type": "markdown",
   "id": "3e28c174-554c-4611-b2a2-88a5573b50e9",
   "metadata": {},
   "source": [
    "Create the main window"
   ]
  },
  {
   "cell_type": "code",
   "execution_count": null,
   "id": "b08a9340-2310-4d0f-a8f8-61c323e6874a",
   "metadata": {},
   "outputs": [],
   "source": [
    "root = tk.Tk()\n",
    "root.title(\"Password Generator\")"
   ]
  },
  {
   "cell_type": "markdown",
   "id": "de6535e9-1b92-47b6-8aef-7d493b9e0e81",
   "metadata": {},
   "source": [
    "Label and entry for password length"
   ]
  },
  {
   "cell_type": "code",
   "execution_count": null,
   "id": "8782112b-f800-4a18-a05d-72f09cd3959d",
   "metadata": {},
   "outputs": [],
   "source": [
    "length_label = tk.Label(root, text=\"Password Length:\")\n",
    "length_label.pack()\n",
    "\n",
    "length_entry = tk.Entry(root)\n",
    "length_entry.pack()"
   ]
  },
  {
   "cell_type": "markdown",
   "id": "43cfd19a-2fde-4c47-97b4-3d0af1434792",
   "metadata": {},
   "source": [
    "Button to generate password"
   ]
  },
  {
   "cell_type": "code",
   "execution_count": null,
   "id": "038758b7-9ba9-416d-af14-86dd88673979",
   "metadata": {},
   "outputs": [],
   "source": [
    "generate_button = tk.Button(root, text=\"Generate Password\", command=generate_password)\n",
    "generate_button.pack()"
   ]
  },
  {
   "cell_type": "markdown",
   "id": "a941ac3e-a003-44d4-8ef1-56bf91a9eb14",
   "metadata": {},
   "source": [
    "Label and entry to display the generated password"
   ]
  },
  {
   "cell_type": "code",
   "execution_count": null,
   "id": "69474ad2-73ab-406b-9a25-343927a430ea",
   "metadata": {},
   "outputs": [],
   "source": [
    "password_label = tk.Label(root, text=\"Generated Password:\")\n",
    "password_label.pack()\n",
    "\n",
    "password_entry = tk.Entry(root)\n",
    "password_entry.pack()"
   ]
  },
  {
   "cell_type": "code",
   "execution_count": null,
   "id": "dc496095-fd8a-4662-b50a-928e989e2b81",
   "metadata": {},
   "outputs": [],
   "source": [
    "root.mainloop()"
   ]
  },
  {
   "cell_type": "code",
   "execution_count": null,
   "id": "0d5b3e16-e286-4c03-bbd3-f72a8dea447c",
   "metadata": {},
   "outputs": [],
   "source": []
  }
 ],
 "metadata": {
  "kernelspec": {
   "display_name": "Python 3 (ipykernel)",
   "language": "python",
   "name": "python3"
  },
  "language_info": {
   "codemirror_mode": {
    "name": "ipython",
    "version": 3
   },
   "file_extension": ".py",
   "mimetype": "text/x-python",
   "name": "python",
   "nbconvert_exporter": "python",
   "pygments_lexer": "ipython3",
   "version": "3.12.1"
  }
 },
 "nbformat": 4,
 "nbformat_minor": 5
}

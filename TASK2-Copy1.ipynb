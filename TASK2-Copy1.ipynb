{
 "cells": [
  {
   "cell_type": "code",
   "execution_count": 13,
   "id": "8ddbaeab-d032-4aff-8d7f-feb3dd615aa2",
   "metadata": {},
   "outputs": [],
   "source": [
    "import tkinter as tk\n",
    "\n",
    "def ADD_task():\n",
    "    task = task_entry.get()\n",
    "    if task:\n",
    "        task_listbox.insert(tk.END, task)\n",
    "        task_entry.delete(0, tk.END)\n",
    "\n",
    "def REMOVE_task():\n",
    "    selected_task_index = task_listbox.curselection()\n",
    "    if selected_task_index:\n",
    "        task_listbox.delete(selected_task_index)"
   ]
  },
  {
   "cell_type": "markdown",
   "id": "d56f5585-bea9-420e-b819-f7d86d1546c9",
   "metadata": {},
   "source": [
    "Create the main window"
   ]
  },
  {
   "cell_type": "code",
   "execution_count": 14,
   "id": "e877593d-a157-4041-8f27-513ab9df8d46",
   "metadata": {},
   "outputs": [
    {
     "data": {
      "text/plain": [
       "''"
      ]
     },
     "execution_count": 14,
     "metadata": {},
     "output_type": "execute_result"
    }
   ],
   "source": [
    "root = tk.Tk()\n",
    "root.title(\"To-Do List\")\n",
    "root.geometry(\"400x650+400+100\")"
   ]
  },
  {
   "cell_type": "markdown",
   "id": "dc7c5716-b804-49f7-b453-ef1a0cf75598",
   "metadata": {},
   "source": [
    "Create a listbox to display tasks"
   ]
  },
  {
   "cell_type": "code",
   "execution_count": 15,
   "id": "af12f5b5-28a3-4935-8c2d-48a9ced59a6f",
   "metadata": {},
   "outputs": [],
   "source": [
    "task_listbox = tk.Listbox(root)\n",
    "task_listbox.pack(pady=10)"
   ]
  },
  {
   "cell_type": "markdown",
   "id": "466e7751-079b-4a11-9075-74300a064ee6",
   "metadata": {},
   "source": [
    "Create an entry widget to add new tasks"
   ]
  },
  {
   "cell_type": "code",
   "execution_count": 16,
   "id": "e2254f6a-baf2-45c8-808f-24f8057e35b3",
   "metadata": {},
   "outputs": [],
   "source": [
    "task_entry = tk.Entry(root)\n",
    "task_entry.pack(pady=10)"
   ]
  },
  {
   "cell_type": "markdown",
   "id": "06e04ad0-a607-4f47-8322-4886f4a67d2e",
   "metadata": {},
   "source": [
    "Create Add and Remove buttons"
   ]
  },
  {
   "cell_type": "code",
   "execution_count": 17,
   "id": "7ab2ccf5-9e65-4549-8938-75a694d34ed9",
   "metadata": {},
   "outputs": [],
   "source": [
    "ADD_button = tk.Button(root, text=\"ADD Task\", command=ADD_task)\n",
    "REMOVE_button = tk.Button(root, text=\"REMOVE Task\", command=REMOVE_task)"
   ]
  },
  {
   "cell_type": "code",
   "execution_count": 18,
   "id": "7eb41db8-a67b-47a1-8a62-1c8d5ac79d04",
   "metadata": {},
   "outputs": [],
   "source": [
    "ADD_button.pack()\n",
    "REMOVE_button.pack()"
   ]
  },
  {
   "cell_type": "markdown",
   "id": "68f4881d-3222-4b64-a9aa-cf5ed0819ddc",
   "metadata": {},
   "source": [
    "Start the Tkinter main loop"
   ]
  },
  {
   "cell_type": "code",
   "execution_count": 19,
   "id": "b3507cd2-6ebf-4bf4-8028-4e62a11b5b13",
   "metadata": {},
   "outputs": [],
   "source": [
    "root.mainloop()"
   ]
  },
  {
   "cell_type": "code",
   "execution_count": null,
   "id": "2d729f05-eb24-4478-a02b-e3d10339700b",
   "metadata": {},
   "outputs": [],
   "source": []
  }
 ],
 "metadata": {
  "kernelspec": {
   "display_name": "Python 3 (ipykernel)",
   "language": "python",
   "name": "python3"
  },
  "language_info": {
   "codemirror_mode": {
    "name": "ipython",
    "version": 3
   },
   "file_extension": ".py",
   "mimetype": "text/x-python",
   "name": "python",
   "nbconvert_exporter": "python",
   "pygments_lexer": "ipython3",
   "version": "3.12.1"
  }
 },
 "nbformat": 4,
 "nbformat_minor": 5
}
